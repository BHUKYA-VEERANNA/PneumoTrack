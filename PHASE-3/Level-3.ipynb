{
 "cells": [
  {
   "attachments": {},
   "cell_type": "markdown",
   "metadata": {},
   "source": [
    "# Dataset"
   ]
  },
  {
   "cell_type": "code",
   "execution_count": 1,
   "metadata": {},
   "outputs": [],
   "source": [
    "import pandas as pd\n",
    "import numpy as np\n",
    "\n",
    "# Define the severity levels\n",
    "severity_levels = [0, 1, 2]\n",
    "\n",
    "# Define possible diagnoses\n",
    "diagnoses = [\"Normal\", \"Pneumonia\"]\n",
    "\n",
    "# Initialize empty lists for each column\n",
    "severity_list = []\n",
    "diagnosis_list = []\n",
    "medications_list = []\n",
    "diet_list = []\n",
    "exercise_list = []\n",
    "\n",
    "# Generate 30,000 records\n",
    "num_records = 30000\n",
    "\n",
    "for _ in range(num_records):\n",
    "    # Randomly select severity and diagnosis\n",
    "    severity = np.random.choice(severity_levels)\n",
    "    diagnosis = np.random.choice(diagnoses)\n",
    "    \n",
    "    # Randomly generate medications, diet, and exercise\n",
    "    medications = \", \".join(np.random.choice([\"Antibiotics\", \"Corticosteroids\", \"Pain relievers\", \"Inhaler\", \"Oxygen therapy\"], size=np.random.randint(1, 4)))\n",
    "    diet = \", \".join(np.random.choice([\"Balanced diet\", \"Liquid diet\", \"High-protein, low-carb diet\", \"Chicken soup\", \"Regular balanced diet\"], size=np.random.randint(1, 4)))\n",
    "    exercise = \", \".join(np.random.choice([\"Breathing exercises\", \"Light stretching\", \"Yoga\", \"Moderate-intensity cardio\", \"Swimming\"], size=np.random.randint(1, 4)))\n",
    "    \n",
    "    # Append values to respective lists\n",
    "    severity_list.append(severity)\n",
    "    diagnosis_list.append(diagnosis)\n",
    "    medications_list.append(medications)\n",
    "    diet_list.append(diet)\n",
    "    exercise_list.append(exercise)\n",
    "\n",
    "# Create a DataFrame\n",
    "data = pd.DataFrame({\n",
    "    'Severity': severity_list,\n",
    "    'Diagnosis': diagnosis_list,\n",
    "    'Medications': medications_list,\n",
    "    'Diet': diet_list,\n",
    "    'Exercise': exercise_list\n",
    "})\n",
    "\n",
    "# Save the dataset to a CSV file\n",
    "data.to_csv('medical_dataset.csv', index=False)\n"
   ]
  },
  {
   "attachments": {},
   "cell_type": "markdown",
   "metadata": {},
   "source": [
    "# Model Training"
   ]
  },
  {
   "cell_type": "markdown",
   "metadata": {},
   "source": [
    "Pre - Process Data"
   ]
  },
  {
   "cell_type": "code",
   "execution_count": 2,
   "metadata": {},
   "outputs": [],
   "source": [
    "import pandas as pd\n",
    "from sklearn.model_selection import train_test_split\n",
    "from sklearn.preprocessing import LabelEncoder\n",
    "from tensorflow.keras.utils import to_categorical\n",
    "\n",
    "# Load your dataset here\n",
    "# Assuming you have a DataFrame called 'data'\n",
    "\n",
    "# Preprocessing\n",
    "X = data.drop('Diagnosis', axis=1)\n",
    "y = data['Diagnosis']\n",
    "\n",
    "# Encoding categorical data\n",
    "encoder = LabelEncoder()\n",
    "encoder.fit(y)\n",
    "encoded_Y = encoder.transform(y)\n",
    "dummy_y = to_categorical(encoded_Y)\n",
    "\n",
    "# Reshape the input\n",
    "number_of_features = X.shape[1]\n",
    "X = X.values.reshape(-1, number_of_features)\n",
    "\n",
    "# Split the dataset into training and testing sets\n",
    "X_train, X_test, y_train, y_test = train_test_split(X, dummy_y, test_size=0.2, random_state=0)\n"
   ]
  },
  {
   "cell_type": "markdown",
   "metadata": {},
   "source": [
    "Train DL Model"
   ]
  },
  {
   "cell_type": "code",
   "execution_count": 9,
   "metadata": {},
   "outputs": [
    {
     "name": "stdout",
     "output_type": "stream",
     "text": [
      "Epoch 1/10\n",
      "750/750 [==============================] - 3s 3ms/step - loss: 2.2984 - accuracy: 0.5010 - val_loss: 0.8162 - val_accuracy: 0.5027\n",
      "Epoch 2/10\n",
      "750/750 [==============================] - 2s 2ms/step - loss: 0.7644 - accuracy: 0.4958 - val_loss: 0.8254 - val_accuracy: 0.4992\n",
      "Epoch 3/10\n",
      "750/750 [==============================] - 2s 2ms/step - loss: 0.7516 - accuracy: 0.5005 - val_loss: 0.7256 - val_accuracy: 0.5013\n",
      "Epoch 4/10\n",
      "750/750 [==============================] - 2s 2ms/step - loss: 0.7390 - accuracy: 0.4988 - val_loss: 0.7943 - val_accuracy: 0.5002\n",
      "Epoch 5/10\n",
      "750/750 [==============================] - 2s 2ms/step - loss: 0.7517 - accuracy: 0.5016 - val_loss: 0.7119 - val_accuracy: 0.5008\n",
      "Epoch 6/10\n",
      "750/750 [==============================] - 2s 2ms/step - loss: 0.7435 - accuracy: 0.4980 - val_loss: 0.7409 - val_accuracy: 0.5102\n",
      "Epoch 7/10\n",
      "750/750 [==============================] - 2s 2ms/step - loss: 0.7473 - accuracy: 0.5043 - val_loss: 0.7187 - val_accuracy: 0.4972\n",
      "Epoch 8/10\n",
      "750/750 [==============================] - 2s 2ms/step - loss: 0.7436 - accuracy: 0.5028 - val_loss: 0.7268 - val_accuracy: 0.5095\n",
      "Epoch 9/10\n",
      "750/750 [==============================] - 2s 2ms/step - loss: 0.7409 - accuracy: 0.5008 - val_loss: 0.7608 - val_accuracy: 0.5013\n",
      "Epoch 10/10\n",
      "750/750 [==============================] - 2s 2ms/step - loss: 0.7279 - accuracy: 0.5036 - val_loss: 0.7259 - val_accuracy: 0.4937\n"
     ]
    },
    {
     "data": {
      "text/plain": [
       "<keras.src.callbacks.History at 0x2e24de83c50>"
      ]
     },
     "execution_count": 9,
     "metadata": {},
     "output_type": "execute_result"
    }
   ],
   "source": [
    "from keras.models import Sequential\n",
    "from keras.layers import Dense\n",
    "\n",
    "# DL Model\n",
    "dl_model = Sequential()\n",
    "dl_model.add(Dense(32, input_dim=number_of_features, activation='relu'))\n",
    "dl_model.add(Dense(16, activation='relu'))\n",
    "dl_model.add(Dense(2, activation='softmax'))\n",
    "\n",
    "# Compile the DL model\n",
    "dl_model.compile(loss='categorical_crossentropy', optimizer='adam', metrics=['accuracy'])\n",
    "\n",
    "# Train the DL model\n",
    "dl_model.fit(X_train, y_train, validation_data=(X_test, y_test), epochs=10)\n",
    "\n"
   ]
  },
  {
   "cell_type": "markdown",
   "metadata": {},
   "source": [
    "ANN Model"
   ]
  },
  {
   "cell_type": "code",
   "execution_count": 4,
   "metadata": {},
   "outputs": [
    {
     "name": "stdout",
     "output_type": "stream",
     "text": [
      "Epoch 1/10\n",
      "750/750 [==============================] - 3s 2ms/step - loss: 1.1971 - accuracy: 0.4951 - val_loss: 0.7043 - val_accuracy: 0.4947\n",
      "Epoch 2/10\n",
      "750/750 [==============================] - 2s 2ms/step - loss: 0.7093 - accuracy: 0.5030 - val_loss: 0.7015 - val_accuracy: 0.4965\n",
      "Epoch 3/10\n",
      "750/750 [==============================] - 2s 2ms/step - loss: 0.7059 - accuracy: 0.5010 - val_loss: 0.6996 - val_accuracy: 0.5048\n",
      "Epoch 4/10\n",
      "750/750 [==============================] - 2s 2ms/step - loss: 0.7046 - accuracy: 0.5016 - val_loss: 0.7345 - val_accuracy: 0.4995\n",
      "Epoch 5/10\n",
      "750/750 [==============================] - 2s 2ms/step - loss: 0.7054 - accuracy: 0.4964 - val_loss: 0.6962 - val_accuracy: 0.5002\n",
      "Epoch 6/10\n",
      "750/750 [==============================] - 2s 2ms/step - loss: 0.7017 - accuracy: 0.5067 - val_loss: 0.6980 - val_accuracy: 0.4995\n",
      "Epoch 7/10\n",
      "750/750 [==============================] - 2s 2ms/step - loss: 0.7022 - accuracy: 0.4998 - val_loss: 0.6965 - val_accuracy: 0.5027\n",
      "Epoch 8/10\n",
      "750/750 [==============================] - 2s 2ms/step - loss: 0.6991 - accuracy: 0.5003 - val_loss: 0.6982 - val_accuracy: 0.5002\n",
      "Epoch 9/10\n",
      "750/750 [==============================] - 2s 2ms/step - loss: 0.6975 - accuracy: 0.5023 - val_loss: 0.6987 - val_accuracy: 0.4978\n",
      "Epoch 10/10\n",
      "750/750 [==============================] - 2s 2ms/step - loss: 0.6963 - accuracy: 0.5053 - val_loss: 0.6966 - val_accuracy: 0.4983\n"
     ]
    },
    {
     "data": {
      "text/plain": [
       "<keras.src.callbacks.History at 0x2e244784e10>"
      ]
     },
     "execution_count": 4,
     "metadata": {},
     "output_type": "execute_result"
    }
   ],
   "source": [
    "# ANN Model\n",
    "ann_model = Sequential()\n",
    "ann_model.add(Dense(32, input_dim=number_of_features, activation='relu'))\n",
    "ann_model.add(Dense(16, activation='relu'))\n",
    "ann_model.add(Dense(2, activation='softmax'))\n",
    "\n",
    "# Compile the ANN model\n",
    "ann_model.compile(loss='categorical_crossentropy', optimizer='adam', metrics=['accuracy'])\n",
    "\n",
    "# Train the ANN model\n",
    "ann_model.fit(X_train, y_train, validation_data=(X_test, y_test), epochs=10)\n"
   ]
  },
  {
   "cell_type": "markdown",
   "metadata": {},
   "source": [
    "Evaluate and Save best Model"
   ]
  },
  {
   "cell_type": "code",
   "execution_count": 5,
   "metadata": {},
   "outputs": [
    {
     "name": "stdout",
     "output_type": "stream",
     "text": [
      "188/188 [==============================] - 1s 2ms/step - loss: 0.6978 - accuracy: 0.5022\n",
      "188/188 [==============================] - 0s 2ms/step - loss: 0.6966 - accuracy: 0.4983\n",
      "DL Model Accuracy: 0.5021666884422302\n",
      "ANN Model Accuracy: 0.4983333349227905\n"
     ]
    },
    {
     "name": "stderr",
     "output_type": "stream",
     "text": [
      "c:\\Users\\bveer\\AppData\\Local\\Programs\\Python\\Python311\\Lib\\site-packages\\keras\\src\\engine\\training.py:3000: UserWarning: You are saving your model as an HDF5 file via `model.save()`. This file format is considered legacy. We recommend using instead the native Keras format, e.g. `model.save('my_model.keras')`.\n",
      "  saving_api.save_model(\n"
     ]
    }
   ],
   "source": [
    "# Evaluate and display the accuracy of each model\n",
    "_, dl_accuracy = dl_model.evaluate(X_test, y_test)\n",
    "_, ann_accuracy = ann_model.evaluate(X_test, y_test)\n",
    "\n",
    "print(f\"DL Model Accuracy: {dl_accuracy}\")\n",
    "print(f\"ANN Model Accuracy: {ann_accuracy}\")\n",
    "\n",
    "# Save the best model\n",
    "if dl_accuracy > ann_accuracy:\n",
    "    best_model = dl_model\n",
    "else:\n",
    "    best_model = ann_model\n",
    "\n",
    "best_model.save('best_model.h5')\n"
   ]
  },
  {
   "cell_type": "markdown",
   "metadata": {},
   "source": [
    "Visualization"
   ]
  },
  {
   "cell_type": "code",
   "execution_count": 7,
   "metadata": {},
   "outputs": [
    {
     "data": {
      "image/png": "[encoded data removed]",
      "text/plain": [
       "<Figure size 800x600 with 1 Axes>"
      ]
     },
     "metadata": {},
     "output_type": "display_data"
    }
   ],
   "source": [
    "import matplotlib.pyplot as plt\n",
    "\n",
    "# Model names and accuracies\n",
    "model_names = [\"DL Model\", \"ANN Model\"]\n",
    "accuracies = [dl_accuracy, ann_accuracy]\n",
    "\n",
    "# Create a bar chart to visualize the accuracy of each model\n",
    "plt.figure(figsize=(8, 6))\n",
    "plt.bar(model_names, accuracies, color=['blue', 'green'])\n",
    "plt.xlabel('Model')\n",
    "plt.ylabel('Accuracy')\n",
    "plt.title('Model Accuracy Comparison')\n",
    "plt.ylim(0, 1)  # Set the y-axis limit from 0 to 1 for accuracy\n",
    "plt.show()\n"
   ]
  },
  {
   "cell_type": "markdown",
   "metadata": {},
   "source": [
    "# GUI"
   ]
  },
  {
   "cell_type": "code",
   "execution_count": 1,
   "metadata": {},
   "outputs": [],
   "source": [
    "import tkinter as tk\n",
    "from tkinter import ttk\n",
    "from tkinter import messagebox\n",
    "import pandas as pd\n",
    "import numpy as np\n",
    "\n",
    "# Load your dataset\n",
    "data = pd.read_csv('medical_dataset.csv')\n",
    "\n",
    "# Function to recommend medications, diet, and exercises\n",
    "def recommend():\n",
    "    # Retrieve patient input (severity and diagnosis)\n",
    "    severity = int(severity_var.get())\n",
    "    diagnosis = diagnosis_var.get()\n",
    "    \n",
    "    # Filter data based on severity and diagnosis\n",
    "    filtered_data = data[(data['Severity'] == severity) & (data['Diagnosis'] == diagnosis)]\n",
    "    \n",
    "    if len(filtered_data) == 0:\n",
    "        messagebox.showinfo(\"Recommendations\", \"No recommendations found for the selected severity and diagnosis.\")\n",
    "        return\n",
    "    \n",
    "    # Randomly select a recommendation from the filtered data\n",
    "    random_index = np.random.randint(0, len(filtered_data))\n",
    "    medications = filtered_data.iloc[random_index]['Medications']\n",
    "    diet = filtered_data.iloc[random_index]['Diet']\n",
    "    exercise = filtered_data.iloc[random_index]['Exercise']\n",
    "    \n",
    "    # Display the recommendations\n",
    "    recommendations_label.config(text=f\"Medications: {medications}\\nDiet: {diet}\\nExercise: {exercise}\", fg=\"blue\")\n",
    "\n",
    "# Function to clear selected fields\n",
    "def clear_fields():\n",
    "    severity_var.set('')\n",
    "    diagnosis_var.set('')\n",
    "    recommendations_label.config(text=\"\", fg=\"black\")\n",
    "\n",
    "# Function to exit the GUI\n",
    "def exit_app():\n",
    "    root.destroy()\n",
    "\n",
    "# Create the main application window\n",
    "root = tk.Tk()\n",
    "root.title(\"Medical Recommendation System\")\n",
    "root.geometry(\"500x400\")  # Increased size for better appearance\n",
    "\n",
    "# Add some space\n",
    "space1 = tk.Label(root, text=\"\", font=(\"Arial\", 12))\n",
    "space1.pack()\n",
    "\n",
    "# Severity dropdown\n",
    "severity_label = tk.Label(root, text=\"Severity:\", font=(\"Arial\", 14))\n",
    "severity_label.pack()\n",
    "severity_var = tk.StringVar()\n",
    "severity_dropdown = ttk.Combobox(root, textvariable=severity_var, font=(\"Arial\", 12))\n",
    "severity_dropdown['values'] = (0, 1, 2)\n",
    "severity_dropdown.pack()\n",
    "\n",
    "# Add some space\n",
    "space2 = tk.Label(root, text=\"\", font=(\"Arial\", 12))\n",
    "space2.pack()\n",
    "\n",
    "# Diagnosis dropdown\n",
    "diagnosis_label = tk.Label(root, text=\"Diagnosis:\", font=(\"Arial\", 14))\n",
    "diagnosis_label.pack()\n",
    "diagnosis_var = tk.StringVar()\n",
    "diagnosis_dropdown = ttk.Combobox(root, textvariable=diagnosis_var, font=(\"Arial\", 12))\n",
    "diagnosis_dropdown['values'] = (\"Normal\", \"Pneumonia\")\n",
    "diagnosis_dropdown.pack()\n",
    "\n",
    "# Add some space\n",
    "space3 = tk.Label(root, text=\"\", font=(\"Arial\", 12))\n",
    "space3.pack()\n",
    "\n",
    "# Button to get recommendations\n",
    "recommend_button = tk.Button(root, text=\"Get Recommendations\", command=recommend, font=(\"Arial\", 14))\n",
    "recommend_button.pack()\n",
    "\n",
    "# Add some space\n",
    "space4 = tk.Label(root, text=\"\", font=(\"Arial\", 12))\n",
    "space4.pack()\n",
    "\n",
    "# Button to clear selected fields\n",
    "clear_button = tk.Button(root, text=\"Clear\", command=clear_fields, font=(\"Arial\", 14))\n",
    "clear_button.pack()\n",
    "\n",
    "# Button to exit the GUI\n",
    "exit_button = tk.Button(root, text=\"Exit\", command=exit_app, font=(\"Arial\", 14), bg=\"red\", fg=\"white\")\n",
    "exit_button.pack()\n",
    "\n",
    "# Label to display recommendations\n",
    "recommendations_label = tk.Label(root, text=\"\", wraplength=400, font=(\"Arial\", 12))\n",
    "recommendations_label.pack()\n",
    "\n",
    "root.mainloop()\n"
   ]
  }
 ],
 "metadata": {
  "kernelspec": {
   "display_name": "Python 3",
   "language": "python",
   "name": "python3"
  },
  "language_info": {
   "codemirror_mode": {
    "name": "ipython",
    "version": 3
   },
   "file_extension": ".py",
   "mimetype": "text/x-python",
   "name": "python",
   "nbconvert_exporter": "python",
   "pygments_lexer": "ipython3",
   "version": "3.11.5"
  },
  "orig_nbformat": 4
 },
 "nbformat": 4,
 "nbformat_minor": 2
}
